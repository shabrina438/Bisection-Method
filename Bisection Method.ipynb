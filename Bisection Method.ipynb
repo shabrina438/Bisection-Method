{
 "cells": [
  {
   "cell_type": "code",
   "execution_count": 9,
   "id": "950b9cde",
   "metadata": {},
   "outputs": [],
   "source": [
    "import numpy as np"
   ]
  },
  {
   "cell_type": "code",
   "execution_count": 13,
   "id": "2e739d49",
   "metadata": {},
   "outputs": [],
   "source": [
    "def function(x):\n",
    "    return x*x*x -x -4"
   ]
  },
  {
   "cell_type": "code",
   "execution_count": 14,
   "id": "c79c7784",
   "metadata": {},
   "outputs": [],
   "source": [
    "maxiter = 50\n",
    "error = 0.5 #percent"
   ]
  },
  {
   "cell_type": "code",
   "execution_count": 15,
   "id": "7148578e",
   "metadata": {},
   "outputs": [],
   "source": [
    "#initial guess\n",
    "xl = 1 #lower range\n",
    "xu = 2 #upper range"
   ]
  },
  {
   "cell_type": "code",
   "execution_count": 16,
   "id": "39e92b41",
   "metadata": {},
   "outputs": [],
   "source": [
    "def approx_error(iteration, x_r_new, x_r_old):\n",
    "    if iteration == 0:\n",
    "        return 9999999  #setting larger value to beat the error condition\n",
    "    else:\n",
    "        return np.abs((x_r_new - x_r_old)/x_r_new)*100"
   ]
  },
  {
   "cell_type": "code",
   "execution_count": 17,
   "id": "682818ae",
   "metadata": {},
   "outputs": [
    {
     "name": "stdout",
     "output_type": "stream",
     "text": [
      "Iteration No.\t     xl \t    xu\t \t  X_root \t   f(x_root) \t    approx error   \n",
      "_________________________________________________________________________________________________\n",
      "1\t\t 1.00000000\t 2.00000000\t 1.00000000\t-4.00000000\t 9999999.000000000000\t\n",
      "2\t\t 1.00000000\t 2.00000000\t 1.00000000\t-4.00000000\t 0.000000000000\t\n",
      "-----------------------------\n",
      "Root found: 1.0\n"
     ]
    }
   ],
   "source": [
    "if function(xl)*function(xu)>0:\n",
    "    print(\"The function cannot be solved with those initial guesses.\")\n",
    "else:\n",
    "    print(\"Iteration No.\\t     xl \\t    xu\\t \\t  X_root \\t   f(x_root) \\t    approx error   \")\n",
    "    print(\"_________________________________________________________________________________________________\")\n",
    "\n",
    "    x_rn = 0\n",
    "    x_ro = 0\n",
    "    for i in range(maxiter):\n",
    "        x_rn = (xl*function(xu)+ xu*function(xl))/(function(xl)-function(xu))\n",
    "        approx = approx_error(i, x_rn, x_ro)\n",
    "          \n",
    "        print(str(i+1)+\"\\t\\t% 10.8f\\t% 10.8f\\t% 10.8f\\t% 10.8f\\t% 10.12f\\t\" %(xl, xu, x_rn, function(x_rn),approx))\n",
    "        \n",
    "        if (approx)<(error):\n",
    "           print(\"-----------------------------\")\n",
    "           print(\"Root found: \"+ str(x_rn))\n",
    "           break\n",
    "        if function(xl)*function(x_rn)>0:\n",
    "           xl = x_rn\n",
    "        else:\n",
    "            xu = x_rn\n",
    "        x_ro = x_rn\n",
    "                                                                              \n",
    "if i is maxiter-1:\n",
    "        print(\"Maxiter reached. And the approximate root is: \"+ str(x_rn))"
   ]
  },
  {
   "cell_type": "code",
   "execution_count": 1,
   "id": "1796702b",
   "metadata": {},
   "outputs": [
    {
     "name": "stdout",
     "output_type": "stream",
     "text": [
      "Note: you may need to restart the kernel to use updated packages.\n"
     ]
    },
    {
     "name": "stderr",
     "output_type": "stream",
     "text": [
      "'c:\\users\\shabrina' is not recognized as an internal or external command,\n",
      "operable program or batch file.\n"
     ]
    }
   ],
   "source": [
    "pip install sympy"
   ]
  },
  {
   "cell_type": "code",
   "execution_count": null,
   "id": "7dca7681",
   "metadata": {},
   "outputs": [],
   "source": []
  }
 ],
 "metadata": {
  "kernelspec": {
   "display_name": "Python 3",
   "language": "python",
   "name": "python3"
  },
  "language_info": {
   "codemirror_mode": {
    "name": "ipython",
    "version": 3
   },
   "file_extension": ".py",
   "mimetype": "text/x-python",
   "name": "python",
   "nbconvert_exporter": "python",
   "pygments_lexer": "ipython3",
   "version": "3.9.7"
  }
 },
 "nbformat": 4,
 "nbformat_minor": 5
}
